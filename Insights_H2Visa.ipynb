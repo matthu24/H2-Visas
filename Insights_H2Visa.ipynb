{
 "cells": [
  {
   "cell_type": "markdown",
   "metadata": {},
   "source": [
    "# Exploring H-2 Visa Certification Data"
   ]
  },
  {
   "cell_type": "markdown",
   "metadata": {},
   "source": [
    "## Import the data"
   ]
  },
  {
   "cell_type": "markdown",
   "metadata": {},
   "source": [
    "https://github.com/BuzzFeedNews/H­-2-­certification­-data/blob/master/data/processed/H­-2-certification-decisions.csv\n",
    "\n",
    "Key columns:\n",
    "\n",
    "visa_type: H-2B or H-2A\n",
    "\n",
    "fy: year 2000-2016\n",
    "\n",
    "case_status: denied, certified, partial, full, etc., condensed down to five categories\n",
    "\n",
    "n_requested: number of workers requested for the application or row)\n",
    "\n",
    "n_certified: number of workers certified\n",
    "\n",
    "is_certified: boolean, connected to n_certified\n",
    "\n",
    "certification begin date\n",
    "\n",
    "certification end date\n",
    "\n",
    "job title\n",
    "\n",
    "employer state- abbreviated state name\n",
    "\n",
    "organization flag"
   ]
  },
  {
   "cell_type": "code",
   "execution_count": 1,
   "metadata": {
    "collapsed": false,
    "scrolled": false
   },
   "outputs": [
    {
     "name": "stdout",
     "output_type": "stream",
     "text": [
      "213155\n"
     ]
    }
   ],
   "source": [
    "import numpy as np\n",
    "import pandas as pd\n",
    "pd.set_option('chained_assignment',None)\n",
    "H2 = pd.read_csv(\"/Users/matthu24/.spyder2-py3/H-2-certification-decisions.csv\", low_memory = False, encoding='ISO-8859-1')\n",
    "print(H2.shape[0])"
   ]
  },
  {
   "cell_type": "markdown",
   "metadata": {},
   "source": [
    "##Explore"
   ]
  },
  {
   "cell_type": "code",
   "execution_count": 2,
   "metadata": {
    "collapsed": false
   },
   "outputs": [
    {
     "data": {
      "text/plain": [
       "Index(['case_no', 'visa_type', 'fy', 'last_event_date', 'case_status',\n",
       "       'n_requested', 'n_certified', 'is_certified',\n",
       "       'certification_begin_date', 'certification_end_date', 'job_title',\n",
       "       'employer_name', 'employer_state', 'employer_city',\n",
       "       'employer_address_1', 'employer_address_2', 'employer_postal_code',\n",
       "       'worksite_state', 'worksite_city', 'agent_name', 'organization_flag',\n",
       "       'is_duplicate'],\n",
       "      dtype='object')"
      ]
     },
     "execution_count": 2,
     "metadata": {},
     "output_type": "execute_result"
    }
   ],
   "source": [
    "H2.columns\n"
   ]
  },
  {
   "cell_type": "code",
   "execution_count": 3,
   "metadata": {
    "collapsed": false,
    "scrolled": true
   },
   "outputs": [
    {
     "data": {
      "text/html": [
       "<div>\n",
       "<table border=\"1\" class=\"dataframe\">\n",
       "  <thead>\n",
       "    <tr style=\"text-align: right;\">\n",
       "      <th></th>\n",
       "      <th>case_no</th>\n",
       "      <th>visa_type</th>\n",
       "      <th>fy</th>\n",
       "      <th>last_event_date</th>\n",
       "      <th>case_status</th>\n",
       "      <th>n_requested</th>\n",
       "      <th>n_certified</th>\n",
       "      <th>is_certified</th>\n",
       "      <th>certification_begin_date</th>\n",
       "      <th>certification_end_date</th>\n",
       "      <th>...</th>\n",
       "      <th>employer_state</th>\n",
       "      <th>employer_city</th>\n",
       "      <th>employer_address_1</th>\n",
       "      <th>employer_address_2</th>\n",
       "      <th>employer_postal_code</th>\n",
       "      <th>worksite_state</th>\n",
       "      <th>worksite_city</th>\n",
       "      <th>agent_name</th>\n",
       "      <th>organization_flag</th>\n",
       "      <th>is_duplicate</th>\n",
       "    </tr>\n",
       "  </thead>\n",
       "  <tbody>\n",
       "    <tr>\n",
       "      <th>0</th>\n",
       "      <td>9455254</td>\n",
       "      <td>H-2B</td>\n",
       "      <td>2000</td>\n",
       "      <td>10/1/99</td>\n",
       "      <td>DENIED, TEMPORARY</td>\n",
       "      <td>1</td>\n",
       "      <td>0</td>\n",
       "      <td>False</td>\n",
       "      <td>NaN</td>\n",
       "      <td>NaN</td>\n",
       "      <td>...</td>\n",
       "      <td>CA</td>\n",
       "      <td>LOS ANGELES</td>\n",
       "      <td>NaN</td>\n",
       "      <td>NaN</td>\n",
       "      <td>NaN</td>\n",
       "      <td>NaN</td>\n",
       "      <td>NaN</td>\n",
       "      <td>NaN</td>\n",
       "      <td>NaN</td>\n",
       "      <td>NaN</td>\n",
       "    </tr>\n",
       "    <tr>\n",
       "      <th>1</th>\n",
       "      <td>8222219</td>\n",
       "      <td>H-2B</td>\n",
       "      <td>2000</td>\n",
       "      <td>10/4/99</td>\n",
       "      <td>CERTIFIED, TEMPORARY</td>\n",
       "      <td>2</td>\n",
       "      <td>2</td>\n",
       "      <td>True</td>\n",
       "      <td>NaN</td>\n",
       "      <td>NaN</td>\n",
       "      <td>...</td>\n",
       "      <td>CO</td>\n",
       "      <td>BEAVER CREEK</td>\n",
       "      <td>NaN</td>\n",
       "      <td>NaN</td>\n",
       "      <td>NaN</td>\n",
       "      <td>NaN</td>\n",
       "      <td>NaN</td>\n",
       "      <td>NaN</td>\n",
       "      <td>NaN</td>\n",
       "      <td>NaN</td>\n",
       "    </tr>\n",
       "    <tr>\n",
       "      <th>2</th>\n",
       "      <td>8222168</td>\n",
       "      <td>H-2B</td>\n",
       "      <td>2000</td>\n",
       "      <td>10/4/99</td>\n",
       "      <td>CERTIFIED, TEMPORARY</td>\n",
       "      <td>2</td>\n",
       "      <td>2</td>\n",
       "      <td>True</td>\n",
       "      <td>NaN</td>\n",
       "      <td>NaN</td>\n",
       "      <td>...</td>\n",
       "      <td>CO</td>\n",
       "      <td>MT. CRESTED BUTTE</td>\n",
       "      <td>NaN</td>\n",
       "      <td>NaN</td>\n",
       "      <td>NaN</td>\n",
       "      <td>NaN</td>\n",
       "      <td>NaN</td>\n",
       "      <td>NaN</td>\n",
       "      <td>NaN</td>\n",
       "      <td>NaN</td>\n",
       "    </tr>\n",
       "  </tbody>\n",
       "</table>\n",
       "<p>3 rows × 22 columns</p>\n",
       "</div>"
      ],
      "text/plain": [
       "   case_no visa_type    fy last_event_date           case_status  n_requested  \\\n",
       "0  9455254      H-2B  2000         10/1/99     DENIED, TEMPORARY            1   \n",
       "1  8222219      H-2B  2000         10/4/99  CERTIFIED, TEMPORARY            2   \n",
       "2  8222168      H-2B  2000         10/4/99  CERTIFIED, TEMPORARY            2   \n",
       "\n",
       "   n_certified is_certified certification_begin_date certification_end_date  \\\n",
       "0            0        False                      NaN                    NaN   \n",
       "1            2         True                      NaN                    NaN   \n",
       "2            2         True                      NaN                    NaN   \n",
       "\n",
       "      ...      employer_state      employer_city employer_address_1  \\\n",
       "0     ...                  CA        LOS ANGELES                NaN   \n",
       "1     ...                  CO       BEAVER CREEK                NaN   \n",
       "2     ...                  CO  MT. CRESTED BUTTE                NaN   \n",
       "\n",
       "  employer_address_2 employer_postal_code worksite_state worksite_city  \\\n",
       "0                NaN                  NaN            NaN           NaN   \n",
       "1                NaN                  NaN            NaN           NaN   \n",
       "2                NaN                  NaN            NaN           NaN   \n",
       "\n",
       "  agent_name organization_flag is_duplicate  \n",
       "0        NaN               NaN          NaN  \n",
       "1        NaN               NaN          NaN  \n",
       "2        NaN               NaN          NaN  \n",
       "\n",
       "[3 rows x 22 columns]"
      ]
     },
     "execution_count": 3,
     "metadata": {},
     "output_type": "execute_result"
    }
   ],
   "source": [
    "H2.head(3)"
   ]
  },
  {
   "cell_type": "markdown",
   "metadata": {},
   "source": [
    "Plot distribution of number of applications per year"
   ]
  },
  {
   "cell_type": "code",
   "execution_count": 18,
   "metadata": {
    "collapsed": false
   },
   "outputs": [
    {
     "data": {
      "text/plain": [
       "<matplotlib.text.Text at 0x1068069e8>"
      ]
     },
     "execution_count": 18,
     "metadata": {},
     "output_type": "execute_result"
    },
    {
     "data": {
      "image/png": "[encoded data removed]",
      "text/plain": [
       "<matplotlib.figure.Figure at 0x1084a3588>"
      ]
     },
     "metadata": {},
     "output_type": "display_data"
    }
   ],
   "source": [
    "%matplotlib inline\n",
    "import matplotlib.pyplot as plt\n",
    "\n",
    "plt.hist(H2[\"fy\"])\n",
    "plt.xlabel(\"Year\")"
   ]
  },
  {
   "cell_type": "markdown",
   "metadata": {},
   "source": [
    "##Clean Data"
   ]
  },
  {
   "cell_type": "code",
   "execution_count": 5,
   "metadata": {
    "collapsed": false
   },
   "outputs": [
    {
     "name": "stdout",
     "output_type": "stream",
     "text": [
      "case_no                          0\n",
      "visa_type                        0\n",
      "fy                               0\n",
      "last_event_date               7469\n",
      "case_status                      0\n",
      "n_requested                  57635\n",
      "n_certified                      0\n",
      "is_certified                     0\n",
      "certification_begin_date     57626\n",
      "certification_end_date       57631\n",
      "job_title                      479\n",
      "employer_name                    4\n",
      "employer_state                 104\n",
      "employer_city                   61\n",
      "employer_address_1           43916\n",
      "employer_address_2          166021\n",
      "employer_postal_code         44112\n",
      "worksite_state               62822\n",
      "worksite_city               131118\n",
      "agent_name                   38845\n",
      "organization_flag           137871\n",
      "is_duplicate                137871\n",
      "dtype: int64\n"
     ]
    }
   ],
   "source": [
    "#filter out duplicate rows\n",
    "H2 = H2[H2[\"is_duplicate\"] != True]\n",
    "missing_values = H2.isnull().sum()\n",
    "H2 = H2.dropna(subset = ['employer_state'])\n",
    "print(missing_values)\n",
    "\n",
    "H2_2011_2016 = H2[H2[\"fy\"] >= 2011]"
   ]
  },
  {
   "cell_type": "markdown",
   "metadata": {},
   "source": [
    "##Analysis"
   ]
  },
  {
   "cell_type": "markdown",
   "metadata": {},
   "source": [
    "0. What is the breakdown for visa types H-2A vs. H-2B? How are the numbers of the two types changing per year?"
   ]
  },
  {
   "cell_type": "code",
   "execution_count": 6,
   "metadata": {
    "collapsed": false
   },
   "outputs": [
    {
     "name": "stdout",
     "output_type": "stream",
     "text": [
      "          count      \n",
      "visa_type  H-2A  H-2B\n",
      "fy                   \n",
      "2011       4941  4409\n",
      "2012       5459  4211\n",
      "2013       5948  4708\n",
      "2014       6711  5466\n",
      "2015       7552  6521\n",
      "2016       1120  4813\n"
     ]
    },
    {
     "data": {
      "text/plain": [
       "<matplotlib.figure.Figure at 0x10758f2b0>"
      ]
     },
     "metadata": {},
     "output_type": "display_data"
    },
    {
     "data": {
      "image/png": "[encoded data removed]",
      "text/plain": [
       "<matplotlib.figure.Figure at 0x10758f2e8>"
      ]
     },
     "metadata": {},
     "output_type": "display_data"
    },
    {
     "data": {
      "image/png": "[encoded data removed]",
      "text/plain": [
       "<matplotlib.figure.Figure at 0x1067e3940>"
      ]
     },
     "metadata": {},
     "output_type": "display_data"
    }
   ],
   "source": [
    "visa_types = H2_2011_2016[\"visa_type\"].value_counts()\n",
    "\n",
    "ind = np.arange(len(visa_types))\n",
    "width = 0.6\n",
    "plt.figure(figsize=(5,6),dpi = 20)\n",
    "fig, ax = plt.subplots()\n",
    "rects = ax.bar(ind,visa_types.values,width,color='r')\n",
    "ax.set_xticklabels(visa_types.index)\n",
    "ax.set_ylabel('Number')\n",
    "ax.set_title('Visa Types')\n",
    "ax.set_xticks(ind + 0.5*width)\n",
    "\n",
    "\n",
    "visa_type_fy = pd.DataFrame(H2_2011_2016[[\"fy\", \"visa_type\"]])\n",
    "visa_type_fy['count'] = 1\n",
    "\n",
    "visa_type_fy_pivot = pd.pivot_table(visa_type_fy, index='fy', columns=['visa_type'],aggfunc=np.sum)\n",
    "print(visa_type_fy_pivot)\n",
    "\n",
    "fig = plt.figure(figsize=(4,4))\n",
    "ax = fig.add_subplot(1,1,1)\n",
    "ax.plot(visa_type_fy_pivot.index, visa_type_fy_pivot.values)\n",
    "ax.legend(['Visa H-2A', 'Visa H-2B'])\n",
    "plt.title('Visa types per year')\n",
    "plt.xlabel('year')\n",
    "plt.ylabel(\"visa types\")\n",
    "plt.show()"
   ]
  },
  {
   "cell_type": "markdown",
   "metadata": {},
   "source": [
    "1. Examine the applications with the longest periods between certification beginning and end.  Is there one visa type that dominates these applications?"
   ]
  },
  {
   "cell_type": "code",
   "execution_count": 7,
   "metadata": {
    "collapsed": false,
    "scrolled": false
   },
   "outputs": [
    {
     "name": "stdout",
     "output_type": "stream",
     "text": [
      "H-2B    97\n",
      "H-2A     3\n",
      "Name: visa_type, dtype: int64\n",
      "          fy visa_type certification_begin_date certification_end_date  \\\n",
      "153293  2012      H-2B               2001-02-28             2012-12-20   \n",
      "140480  2011      H-2B               2001-01-15             2011-11-15   \n",
      "183456  2014      H-2B               2014-07-07             2025-01-01   \n",
      "209251  2016      H-2B               2015-10-22             2025-10-10   \n",
      "209258  2016      H-2B               2015-10-22             2025-10-10   \n",
      "\n",
      "       employer_state  n_certified is_certified  \\\n",
      "153293             NJ           14         True   \n",
      "140480             CA           30         True   \n",
      "183456             NV            0        False   \n",
      "209251             IL            0        False   \n",
      "209258             IL            0        False   \n",
      "\n",
      "                            job_title  period_length  \n",
      "153293             LABORER, LANDSCAPE      4313 days  \n",
      "140480  RECREATION FACILITY ATTENDANT      3956 days  \n",
      "183456      REPAIR/SERVICE TECHNICIAN      3831 days  \n",
      "209251           NAIL TECHNICIAN JOBS      3641 days  \n",
      "209258           NAIL TECHNICIAN JOBS      3641 days  \n"
     ]
    }
   ],
   "source": [
    "#change to datetime\n",
    "H2_2011_2016['certification_begin_date'] = pd.to_datetime(H2_2011_2016['certification_begin_date'])\n",
    "H2_2011_2016['certification_end_date'] = pd.to_datetime(H2_2011_2016['certification_end_date'])\n",
    "\n",
    "#create new 2011-2016 dataframe\n",
    "certification_period_total = pd.DataFrame(H2_2011_2016[['fy', 'visa_type', \n",
    "                                                           'certification_begin_date', 'certification_end_date', \n",
    "                                                            'employer_state', \"n_certified\", \"is_certified\", \"job_title\"]])\n",
    "\n",
    "#compute period length from certification end and begin date\n",
    "certification_period_total[\"period_length\"] = abs(certification_period_total['certification_end_date'] \\\n",
    "                                            - certification_period_total['certification_begin_date'])\n",
    "\n",
    "#Grab the 100 applications with longest certification period length:\n",
    "#sort DF according to period length in descending order, than grab the first 100 rows\n",
    "top_100_cert_period_requested = certification_period_total.sort_values(\"period_length\",ascending = False).iloc[:100,:]\n",
    "\n",
    "#what visa types were the longest periods?\n",
    "LongPeriod_Visa_types = top_100_cert_period_requested[\"visa_type\"].value_counts()\n",
    "print(LongPeriod_Visa_types)\n",
    "print(top_100_cert_period_requested.head(5))"
   ]
  },
  {
   "cell_type": "markdown",
   "metadata": {},
   "source": [
    "The longest certification periods can span up to 4313 days."
   ]
  },
  {
   "cell_type": "markdown",
   "metadata": {},
   "source": [
    "2. Examine case_status column: Condense the 20 + categories to six summarizing categories"
   ]
  },
  {
   "cell_type": "code",
   "execution_count": 8,
   "metadata": {
    "collapsed": false
   },
   "outputs": [
    {
     "name": "stdout",
     "output_type": "stream",
     "text": [
      "CERTIFIED - FULL                                        14779\n",
      "DETERMINATION ISSUED - CERTIFICATION                    13545\n",
      "CERTIFICATION                                           11205\n",
      "CERTIFIED                                                8166\n",
      "DENIED                                                   3806\n",
      "PARTIAL CERTIFIED                                        3193\n",
      "WITHDRAWN                                                2165\n",
      "PARTIAL CERTIFICATION                                    1957\n",
      "DETERMINATION ISSUED - CERTIFICATION EXPIRED              896\n",
      "CERTIFIED - PARTIAL                                       766\n",
      "DETERMINATION ISSUED - DENIED                             361\n",
      "CERTIFICATION EXPIRED                                     355\n",
      "DETERMINATION ISSUED - WITHDRAWN                          336\n",
      "DETERMINATION ISSUED - PARTIAL CERTIFICATION              212\n",
      "PARTIAL CERTIFICATION EXPIRED                              84\n",
      "DETERMINATION ISSUED - PARTIAL CERTIFICATION EXPIRED       33\n",
      "Name: case_status, dtype: int64\n",
      "Certified    47695\n",
      "Partial       6128\n",
      "Denied        4167\n",
      "Withdrawn     2501\n",
      "Expired       1368\n",
      "Name: case_status, dtype: int64\n"
     ]
    }
   ],
   "source": [
    "orig_case_status = H2_2011_2016[\"case_status\"].value_counts()\n",
    "print(orig_case_status)\n",
    "#replace all case statuses with six main categories\n",
    "\n",
    "Certified = ['CERTIFIED - FULL','CERTIFIED','CERTIFIED, TEMPORARY','DETERMINATION ISSUED - CERTIFICATION','CERTIFICATION']\n",
    "Partial = ['PARTIAL CERTIFIED','CERTIFIED - PARTIAL','PARTIAL CERTIFICATION','DETERMINATION ISSUED - PARTIAL CERTIFICATION']\n",
    "Denied = ['DENIED','DENIED, TEMPORARY','DETERMINATION ISSUED - DENIED','REDUCTION IN RECRUITMENT DENIED','NOF ISSUED','INCOMPLETE']\n",
    "In_progress = ['RECEIVED REGIONAL OFFICE','RECEIVED','REMAND TO SWA','REMAND ISSUED TO EMPLOYER','REMAND ISSUED TO STATE','FINAL REVIEW','DATA REVIEW','RETURNED BY EMP AFTER REMAND','MODIFICATION']\n",
    "Withdrawn = ['WITHDRAWN','DETERMINATION ISSUED - WITHDRAWN']\n",
    "Expired = ['PARTIAL CERTIFICATION EXPIRED','DETERMINATION ISSUED - CERTIFICATION EXPIRED','CERTIFICATION EXPIRED','DETERMINATION ISSUED - PARTIAL CERTIFICATION EXPIRED']\n",
    "\n",
    "def new_status(status):\n",
    "    if status in Certified:\n",
    "        status = \"Certified\"\n",
    "    elif status in Partial:\n",
    "        status = \"Partial\"\n",
    "    elif status in Denied:\n",
    "        status = \"Denied\"\n",
    "    elif status in In_progress:\n",
    "        status = \"In_progress\"\n",
    "    elif status in Withdrawn:\n",
    "        status = \"Withdrawn\"\n",
    "    elif status in Expired:\n",
    "        status = \"Expired\"\n",
    "    return status\n",
    "    \n",
    "H2_2011_2016[\"case_status\"] = H2_2011_2016[\"case_status\"].map(lambda x: new_status(x))\n",
    "new_case_status = H2_2011_2016[\"case_status\"].value_counts()\n",
    "print(new_case_status)"
   ]
  },
  {
   "cell_type": "code",
   "execution_count": 9,
   "metadata": {
    "collapsed": false
   },
   "outputs": [
    {
     "data": {
      "text/plain": [
       "[<matplotlib.axis.XTick at 0x1093495f8>,\n",
       " <matplotlib.axis.XTick at 0x109349e80>,\n",
       " <matplotlib.axis.XTick at 0x109351a90>,\n",
       " <matplotlib.axis.XTick at 0x10ad41080>,\n",
       " <matplotlib.axis.XTick at 0x10ad41a90>]"
      ]
     },
     "execution_count": 9,
     "metadata": {},
     "output_type": "execute_result"
    },
    {
     "data": {
      "text/plain": [
       "<matplotlib.figure.Figure at 0x10922bc50>"
      ]
     },
     "metadata": {},
     "output_type": "display_data"
    },
    {
     "data": {
      "image/png": "[encoded data removed]",
      "text/plain": [
       "<matplotlib.figure.Figure at 0x1085867b8>"
      ]
     },
     "metadata": {},
     "output_type": "display_data"
    }
   ],
   "source": [
    "ind = np.arange(len(new_case_status))\n",
    "width = 0.6\n",
    "plt.figure(figsize=(20,20),dpi = 20)\n",
    "fig, ax = plt.subplots()\n",
    "rects = ax.bar(ind,new_case_status.values,width,color='r')\n",
    "ax.set_xticklabels(new_case_status.index)\n",
    "ax.set_ylabel('Number')\n",
    "ax.set_title('Case Statuses')\n",
    "ax.set_xticks(ind + 0.5*width)"
   ]
  },
  {
   "cell_type": "markdown",
   "metadata": {},
   "source": [
    "3. Plot the various case status numbers as a function of time from 2011-2016."
   ]
  },
  {
   "cell_type": "code",
   "execution_count": 10,
   "metadata": {
    "collapsed": false
   },
   "outputs": [
    {
     "data": {
      "image/png": "[encoded data removed]",
      "text/plain": [
       "<matplotlib.figure.Figure at 0x1085e5e48>"
      ]
     },
     "metadata": {},
     "output_type": "display_data"
    }
   ],
   "source": [
    "Case_status_fy = pd.DataFrame(H2_2011_2016[[\"fy\",\"case_status\"]])\n",
    "Case_status_fy[\"count\"] = 1\n",
    "\n",
    "Case_status_fy_pivot = pd.pivot_table(Case_status_fy,index = 'fy',columns = ['case_status'],aggfunc = np.sum )\n",
    "\n",
    "fig = plt.figure(figsize=(10,7))\n",
    "ax = fig.add_subplot(1,1,1)\n",
    "ax.plot(Case_status_fy_pivot.index, Case_status_fy_pivot.values,'--')\n",
    "ax.legend(['CERT-FULL', 'CERT-PART', 'DENIED', 'CERT-FULL-EXP', 'CERT-PART-EXP', 'WITHDRAWN'])\n",
    "plt.title('Case status per year')\n",
    "plt.xlabel('year')\n",
    "plt.ylabel(\"Number\")\n",
    "plt.ylim(-1000)\n",
    "plt.show()"
   ]
  },
  {
   "cell_type": "markdown",
   "metadata": {},
   "source": [
    "4. How has number of approved applications changed over time?\n",
    "5. How has number of approved workers changed over time?"
   ]
  },
  {
   "cell_type": "code",
   "execution_count": 11,
   "metadata": {
    "collapsed": false
   },
   "outputs": [
    {
     "data": {
      "image/png": "[encoded data removed]",
      "text/plain": [
       "<matplotlib.figure.Figure at 0x10acb39b0>"
      ]
     },
     "metadata": {},
     "output_type": "display_data"
    },
    {
     "data": {
      "image/png": "[encoded data removed]",
      "text/plain": [
       "<matplotlib.figure.Figure at 0x10ba5d3c8>"
      ]
     },
     "metadata": {},
     "output_type": "display_data"
    }
   ],
   "source": [
    "fy_iscertified = pd.DataFrame(H2[[\"fy\",\"is_certified\"]])\n",
    "fy_iscertified = fy_iscertified[fy_iscertified[\"is_certified\"] == True]\n",
    "fy_iscertified_pivot = pd.pivot_table(fy_iscertified, index = \"fy\", aggfunc = np.sum)\n",
    "\n",
    "fy_n_certified = pd.DataFrame(H2[[\"fy\",\"n_certified\"]])\n",
    "fy_n_certified_pivot = pd.pivot_table(fy_n_certified,index = \"fy\",aggfunc = np.sum)\n",
    "\n",
    "plt.scatter(fy_iscertified_pivot.index, fy_iscertified_pivot[\"is_certified\"], marker = 'o')\n",
    "plt.xlabel(\"year\")\n",
    "plt.ylabel(\"number certified\")\n",
    "plt.title(\"Number of applications certified by Year\")\n",
    "plt.show()\n",
    "\n",
    "plt.scatter(fy_n_certified_pivot.index, fy_n_certified_pivot[\"n_certified\"], marker = 'o')\n",
    "plt.xlabel(\"year\")\n",
    "plt.ylabel(\"number certified\")\n",
    "plt.title(\"Number of workers certified by Year\")\n",
    "plt.show()\n"
   ]
  },
  {
   "cell_type": "markdown",
   "metadata": {},
   "source": [
    "6. Analyze organization flag, plot bar graph of number of applications in each of the top 8 organizations."
   ]
  },
  {
   "cell_type": "code",
   "execution_count": 12,
   "metadata": {
    "collapsed": false
   },
   "outputs": [
    {
     "data": {
      "text/plain": [
       "<matplotlib.figure.Figure at 0x10bfcb240>"
      ]
     },
     "metadata": {},
     "output_type": "display_data"
    },
    {
     "data": {
      "image/png": "[encoded data removed]",
      "text/plain": [
       "<matplotlib.figure.Figure at 0x10bfcb710>"
      ]
     },
     "metadata": {},
     "output_type": "display_data"
    }
   ],
   "source": [
    "org_counts = H2_2011_2016[\"organization_flag\"].value_counts()\n",
    "\n",
    "#bar graph\n",
    "import numpy\n",
    "ind = np.arange(len(org_counts))\n",
    "width = 0.6\n",
    "plt.figure(figsize=(5,6),dpi = 20)\n",
    "fig, ax = plt.subplots()\n",
    "rects = ax.bar(ind,org_counts.values,width,color='r')\n",
    "ax.set_xticklabels(org_counts.index,rotation = 90)\n",
    "ax.set_ylabel('Number')\n",
    "ax.set_title('Organization flags')\n",
    "ax.set_xticks(ind + 0.5*width)\n",
    "plt.show()"
   ]
  },
  {
   "cell_type": "markdown",
   "metadata": {},
   "source": [
    "7.Find the states with the most number of requests:"
   ]
  },
  {
   "cell_type": "code",
   "execution_count": 16,
   "metadata": {
    "collapsed": false
   },
   "outputs": [
    {
     "name": "stdout",
     "output_type": "stream",
     "text": [
      "                n_requested\n",
      "employer_state             \n",
      "TX                   272625\n",
      "FL                   206888\n",
      "CO                   141442\n",
      "LA                   139428\n",
      "NC                   134951\n"
     ]
    }
   ],
   "source": [
    "request_fy = pd.DataFrame(H2[[\"employer_state\",\"n_requested\"]])\n",
    "#pivot table for employer state and n_requests\n",
    "request_fy_pivot = pd.pivot_table(request_fy,index = \"employer_state\",aggfunc = np.sum)\n",
    "#sort in descending order and grab top 5 rows\n",
    "request_fy_pivot_sort = request_fy_pivot.sort_values(\"n_requested\",ascending = False)[:5]\n",
    "\n",
    "#Then, compare number of requests among the states.  \n",
    "\n",
    "print(request_fy_pivot_sort)"
   ]
  },
  {
   "cell_type": "markdown",
   "metadata": {},
   "source": [
    "8. Top five states with most number of requests: plot number of requests per year"
   ]
  },
  {
   "cell_type": "code",
   "execution_count": 17,
   "metadata": {
    "collapsed": false
   },
   "outputs": [
    {
     "data": {
      "image/png": "[encoded data removed]",
      "text/plain": [
       "<matplotlib.figure.Figure at 0x10a8c9518>"
      ]
     },
     "metadata": {},
     "output_type": "display_data"
    }
   ],
   "source": [
    "top_five_states_list = [\"NC\",\"LA\",\"CO\",\"FL\",\"TX\"]\n",
    "    \n",
    "\n",
    "Top_five_H2 = H2[H2[\"employer_state\"].isin(top_five_states_list)]\n",
    "request_fy = pd.DataFrame(Top_five_H2[[\"fy\",\"n_requested\",\"employer_state\"]])\n",
    "request_fy_pivot_sort = pd.pivot_table(request_fy, index='fy',columns = [\"employer_state\"],aggfunc=np.sum)\n",
    "request_fy_pivot_sort.columns = [\"CO\",\"FL\",\"LA\",\"NC\",\"TX\"]\n",
    " \n",
    "#plot year  vs. n-requested\n",
    "#year\n",
    "import matplotlib.pyplot as plt\n",
    "\n",
    "colors = ['b','c','y','m','r']\n",
    "for state in top_five_states_list:\n",
    "\n",
    "    plt.scatter(request_fy_pivot_sort.index,request_fy_pivot_sort[state],color = colors[top_five_states_list.index(state)])\n",
    "plt.legend(\n",
    "           ('NC','LA','CO','FL','TX'),\n",
    "           scatterpoints=1,\n",
    "           loc='lower left',\n",
    "           ncol=3,\n",
    "           fontsize=8)\n",
    "#plt.legend('NC','LA','CO','FL','TX')    \n",
    "plt.title(\"Number of requests by year\")\n",
    "plt.xlabel(\"year\")\n",
    "plt.ylabel('number of requests')\n",
    "\n",
    "plt.show()"
   ]
  }
 ],
 "metadata": {
  "kernelspec": {
   "display_name": "Python 3",
   "language": "python",
   "name": "python3"
  },
  "language_info": {
   "codemirror_mode": {
    "name": "ipython",
    "version": 3
   },
   "file_extension": ".py",
   "mimetype": "text/x-python",
   "name": "python",
   "nbconvert_exporter": "python",
   "pygments_lexer": "ipython3",
   "version": "3.5.1"
  }
 },
 "nbformat": 4,
 "nbformat_minor": 0
}
